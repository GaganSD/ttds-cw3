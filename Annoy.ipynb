{
  "nbformat": 4,
  "nbformat_minor": 0,
  "metadata": {
    "colab": {
      "name": "Annoy.ipynb",
      "provenance": [],
      "collapsed_sections": []
    },
    "kernelspec": {
      "name": "python3",
      "display_name": "Python 3"
    },
    "language_info": {
      "name": "python"
    },
    "accelerator": "GPU"
  },
  "cells": [
    {
      "cell_type": "code",
      "source": [
        "!pip install -U sentence-transformers"
      ],
      "metadata": {
        "id": "DBMJVcfTzvhS"
      },
      "execution_count": null,
      "outputs": []
    },
    {
      "cell_type": "code",
      "source": [
        "from mongoDB_API import *\n",
        "from tqdm import tqdm\n",
        "import pandas as pd\n",
        "import torch\n",
        "from sentence_transformers import SentenceTransformer, util\n",
        "from google.colab import files\n",
        "import glob\n",
        "import gc\n",
        "\n",
        "model = SentenceTransformer('all-MiniLM-L6-v2')\n",
        "client = MongoDBClient(IP = \"34.142.18.57\")\n"
      ],
      "metadata": {
        "id": "MNM4G6XB0ChM"
      },
      "execution_count": null,
      "outputs": []
    },
    {
      "cell_type": "code",
      "source": [
        "const = 10**6\n",
        "done = [int(i.split('_')[1].split('.')[0]) for i in glob.glob(\"Embeddings/*\")]\n",
        "start = 1\n",
        "indices = [i for i in range(start, 24) if i not in done]\n",
        "\n",
        "for temp_i in tqdm(indices):\n",
        "  i = temp_i * const + 1\n",
        "  print(f\"\\nProcessing Documents: {i} - {i+const-1}\")\n",
        "  cursor = client.get_data(\"paper\", {}, [], i, const - 1)\n",
        "  df = pd.DataFrame(list(cursor))\n",
        "  del(cursor)\n",
        "\n",
        "  df = (df.title + \" \" + df.abstract).astype(str)\n",
        "  embeddings = model.encode(df, show_progress_bar=True, convert_to_tensor=True)\n",
        "  print(f'Embeddings/tensor_{temp_i}.pt')\n",
        "  del(df)\n",
        "\n",
        "  gc.collect()\n",
        "  \n",
        "  torch.save(embeddings, f'Embeddings/tensor_{temp_i}.pt')\n",
        "  del(embeddings)\n",
        "  torch.cuda.empty_cache()\n"
      ],
      "metadata": {
        "id": "9CwcrqpT0FKV"
      },
      "execution_count": null,
      "outputs": []
    },
    {
      "cell_type": "code",
      "source": [
        ""
      ],
      "metadata": {
        "id": "Od_W6Dfbdumk"
      },
      "execution_count": null,
      "outputs": []
    },
    {
      "cell_type": "code",
      "source": [
        "pip install annoy"
      ],
      "metadata": {
        "id": "pNaupoTE8kan"
      },
      "execution_count": null,
      "outputs": []
    },
    {
      "cell_type": "code",
      "source": [
        "from annoy import AnnoyIndex\n",
        "import random\n",
        "import numpy as np\n",
        "from tqdm.notebook import tqdm\n",
        "import torch\n",
        "\n",
        "f = 384"
      ],
      "metadata": {
        "id": "-bibmKyN8i1x"
      },
      "execution_count": null,
      "outputs": []
    },
    {
      "cell_type": "code",
      "source": [
        "t = AnnoyIndex(f, 'angular')  # Length of item vector that will be indexed\n",
        "t.set_seed(43)\n",
        "t.on_disk_build('searcher.ann')\n"
      ],
      "metadata": {
        "id": "1uo5Py3PMYxF"
      },
      "execution_count": null,
      "outputs": []
    },
    {
      "cell_type": "code",
      "source": [
        "index = 0\n",
        "for i in tqdm(range(24)):\n",
        "  temp = torch.load(f\"/home/stylianosc/folder/Embeddings/tensor_{i}.pt\", map_location=torch.device('cpu'))\n",
        "  for j in tqdm(range(temp.shape[0]), leave = False):\n",
        "    temp_doc = temp[j]\n",
        "    t.add_item(index, temp_doc)\n",
        "    \n",
        "    index += 1"
      ],
      "metadata": {
        "id": "mFZybQjiyp02"
      },
      "execution_count": null,
      "outputs": []
    },
    {
      "cell_type": "code",
      "source": [
        "t.get_n_items()"
      ],
      "metadata": {
        "colab": {
          "base_uri": "https://localhost:8080/"
        },
        "id": "gR4Ech_cydSa",
        "outputId": "2752fb2b-071e-4874-8360-7620373775c2"
      },
      "execution_count": null,
      "outputs": [
        {
          "output_type": "execute_result",
          "data": {
            "text/plain": [
              "2000000"
            ]
          },
          "metadata": {},
          "execution_count": 15
        }
      ]
    },
    {
      "cell_type": "code",
      "source": [
        "t.build(200)\n",
        "\n",
        "# ...\n",
        "\n"
      ],
      "metadata": {
        "id": "NJwyl727uXhE"
      },
      "execution_count": null,
      "outputs": []
    },
    {
      "cell_type": "code",
      "source": [
        "u = AnnoyIndex(f, 'angular')\n",
        "u.load('searcher.ann') # super fast, will just mmap the file\n",
        "#print(u.get_nns_by_item(0, 100)) # will find the 1000 nearest neighbors"
      ],
      "metadata": {
        "id": "hgOA7rqrMcXF"
      },
      "execution_count": null,
      "outputs": []
    },
    {
      "cell_type": "code",
      "source": [
        "u.get_n_items()"
      ],
      "metadata": {
        "colab": {
          "base_uri": "https://localhost:8080/"
        },
        "id": "jaFrPipxMqow",
        "outputId": "e4e78c3a-994a-4a59-fff9-674662d52dff"
      },
      "execution_count": null,
      "outputs": [
        {
          "output_type": "execute_result",
          "data": {
            "text/plain": [
              "0"
            ]
          },
          "metadata": {},
          "execution_count": 3
        }
      ]
    }
  ]
}